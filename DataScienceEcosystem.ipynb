{
 "cells": [
  {
   "cell_type": "markdown",
   "id": "1156a868",
   "metadata": {},
   "source": [
    "# Data Science Tools and Ecosystem"
   ]
  },
  {
   "cell_type": "markdown",
   "id": "4b4a60b1",
   "metadata": {},
   "source": [
    "## Author\n",
    "Ameya Date"
   ]
  },
  {
   "cell_type": "markdown",
   "id": "dd7981e4",
   "metadata": {},
   "source": [
    "In this notebook, Data Science Tools and Ecosystem are summarized."
   ]
  },
  {
   "cell_type": "markdown",
   "id": "e920baf2",
   "metadata": {},
   "source": [
    "**Objectives:**\n",
    "   - List popular languages of Data Science\n",
    "   - List of commonly used libraries by Data Scientists.\n",
    "   - Understanding basic arithmetic expression\n",
    "   - Sample code on minutes to hours conversion"
   ]
  },
  {
   "cell_type": "markdown",
   "id": "a7fd11e4",
   "metadata": {},
   "source": [
    "Some of the popular languages that Data Scientists use are:\n",
    "1. Python\n",
    "2. R\n",
    "3. SQL\n",
    "4. Scala"
   ]
  },
  {
   "cell_type": "markdown",
   "id": "abc47d81",
   "metadata": {},
   "source": [
    "Some of the commonly used libraries used by Data Scientists include:\n",
    "1. Python\n",
    "    - Pandas (Scientific Computing Library)\n",
    "    - NumPy (Scientific Computing Library)\n",
    "    - Matplotlib (Data Visualization)\n",
    "    - Seaborn (Data Visualization)\n",
    "    - Scikit-Learn (ML & Deep Learning)\n",
    "    - Keras (ML & Deep Learning)\n",
    "    - TensorFlow (ML & Deep Learning)\n",
    "    - PyTorch (ML & Deep Learning)\n",
    "2. R\n",
    "    - ggplot2 (Data Visualization)\n",
    "    - Libraries which allow to interface with keras and TensorFlow.\n",
    "3. Scala\n",
    "    - Vegas (Data Visualization)\n",
    "    - BigDL (Deep Learning)"
   ]
  },
  {
   "cell_type": "markdown",
   "id": "712b08c5",
   "metadata": {},
   "source": [
    " | Data Science Tools |\n",
    " |--------------------|\n",
    " | Jupyter |\n",
    " | RStudio |\n",
    " | Apache Spark |"
   ]
  },
  {
   "cell_type": "markdown",
   "id": "39ad6b26",
   "metadata": {},
   "source": [
    "### Below are a few examples of evaluating arithmetic expressions in Python"
   ]
  },
  {
   "cell_type": "code",
   "execution_count": 1,
   "id": "b404c7aa",
   "metadata": {},
   "outputs": [
    {
     "data": {
      "text/plain": [
       "17"
      ]
     },
     "execution_count": 1,
     "metadata": {},
     "output_type": "execute_result"
    }
   ],
   "source": [
    "#  This a simple arithmetic expression to mutiply then add integers\n",
    "(3*4)+5"
   ]
  },
  {
   "cell_type": "code",
   "execution_count": 6,
   "id": "406d78b4",
   "metadata": {},
   "outputs": [
    {
     "name": "stdout",
     "output_type": "stream",
     "text": [
      "3.3333333333333335\n"
     ]
    }
   ],
   "source": [
    "# This will convert 200 minutes to hours by diving by 60\n",
    "minutes = 200 \n",
    "hours = minutes/60"
   ]
  },
 ],
 "metadata": {
  "kernelspec": {
   "display_name": "Python 3 (ipykernel)",
   "language": "python",
   "name": "python3"
  },
  "language_info": {
   "codemirror_mode": {
    "name": "ipython",
    "version": 3
   },
   "file_extension": ".py",
   "mimetype": "text/x-python",
   "name": "python",
   "nbconvert_exporter": "python",
   "pygments_lexer": "ipython3",
   "version": "3.11.4"
  }
 },
 "nbformat": 4,
 "nbformat_minor": 5
}
